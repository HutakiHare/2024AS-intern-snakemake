{
 "cells": [
  {
   "cell_type": "markdown",
   "metadata": {},
   "source": [
    "## 範例\t\n",
    "(credit to [Catalog example](https://github.com/snakemake-workflows/rna-seq-star-deseq2))\n",
    "\n",
    "(1) 作者在depositar上資料集放入script,Snakefile,測資, workflow.zip(optional)\n",
    "\n",
    "![data](pictures/data.png)\n",
    "\n",
    "(2) 使用者在BinderHub中可將data.zip, sample, units更換為自己的資料，或是直接跑測試資料  \n",
    "![upload](pictures/upload.png)\n",
    "\n",
    "> 上傳資料  \n",
    "\n",
    "![rename_delete](pictures/rename_delete.png)\n",
    "\n",
    "> 重新命名或刪除    \n",
    "\n",
    "![terminal](pictures/terminal.png)  \n",
    "> 打開終端機  \n",
    "\n",
    "![bash](pictures/bash.png)  \n",
    "> 在終端機中輸入 $ bash script.sh  \n",
    "\n",
    "(3) Snakefile便會自動跑資料分析，並將結果從zip檔解壓縮成資料夾，使用者可在資料夾中的html檔中查看分析結果  \n",
    "\n",
    "![task](pictures/task_to_do.png)  \n",
    "> 秀出要執行的工作  \n",
    "\n",
    "![done](pictures/done.png)  \n",
    "> 100% done  \n",
    "\n",
    "![report](pictures/report.png)  \n",
    "> report的html檔  \n",
    "\n",
    "github link:\n",
    "depositar: [ex1:Data analysis of saccharomyces cerevisiae ( Brewer's yeast)\n",
    " ](https://pid.depositar.io/ark:37281/k56253r3p), [ex2: toy example-relation of golg proce and marriage number](https://pid.depositar.io/ark:37281/k5b8f3n3j)  \n",
    "webpage link: https://hutakihare.github.io/2027AS-intern-snakemake/\n",
    "\n",
    "\n"
   ]
  }
 ],
 "metadata": {
  "kernelspec": {
   "display_name": "Python 3 (ipykernel)",
   "language": "python",
   "name": "python3"
  },
  "language_info": {
   "codemirror_mode": {
    "name": "ipython",
    "version": 3
   },
   "file_extension": ".py",
   "mimetype": "text/x-python",
   "name": "python",
   "nbconvert_exporter": "python",
   "pygments_lexer": "ipython3",
   "version": "3.10.12"
  },
  "widgets": {
   "application/vnd.jupyter.widget-state+json": {
    "state": {},
    "version_major": 2,
    "version_minor": 0
   }
  }
 },
 "nbformat": 4,
 "nbformat_minor": 4
}