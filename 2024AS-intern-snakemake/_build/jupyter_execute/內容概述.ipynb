{
 "cells": [
  {
   "cell_type": "markdown",
   "metadata": {},
   "source": [
    "## 內容概述\n",
    "利用Snakemake來讓作者將其研究方法(分析順序)的Snakefile、script.sh、資料上傳至depositar，當其他使用者帶著自己的資料集來驗證時，上傳至binder中，在終端機中輸入\"bash script.sh\"，系統便會自動下載snakemake與snakedeploy或其他所需要的環境，並直接執行Snakefile，而根據不同需求，Snakefile可能會要取用到其他地方(ex: Github)的資源，或就在本地端執行即可，若想將資料的處理分為前置作業與資料分析，可使用多個Snakefile來達到多層次的工作流程。而Snakemake除了產生出工作流程後產生的成果外，也有內建的功能可以靠指令產生工作流程圖(DAG有向無環圖)或report(.zip,html…)。\n"
   ]
  }
 ],
 "metadata": {
  "kernelspec": {
   "display_name": "Python 3 (ipykernel)",
   "language": "python",
   "name": "python3"
  },
  "language_info": {
   "codemirror_mode": {
    "name": "ipython",
    "version": 3
   },
   "file_extension": ".py",
   "mimetype": "text/x-python",
   "name": "python",
   "nbconvert_exporter": "python",
   "pygments_lexer": "ipython3",
   "version": "3.10.12"
  },
  "widgets": {
   "application/vnd.jupyter.widget-state+json": {
    "state": {},
    "version_major": 2,
    "version_minor": 0
   }
  }
 },
 "nbformat": 4,
 "nbformat_minor": 4
}