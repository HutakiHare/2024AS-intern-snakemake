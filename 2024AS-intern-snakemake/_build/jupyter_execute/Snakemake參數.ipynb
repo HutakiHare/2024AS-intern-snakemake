{
 "cells": [
  {
   "cell_type": "markdown",
   "metadata": {},
   "source": [
    "## Snakemake參數\n",
    "+ -n (--dry-run) : 模擬試跑workflow(for debug) ex: $ snakemake -n\n",
    "+ -p : 列出所有紀錄(for debug) \n",
    "ex: ```$ snakemake -p```\n",
    "+ -f (-F) : 強制重新跑完整workflow\n",
    "ex: ```$ snakemake -f```\n",
    "+ -n (-name): 指定名稱\n",
    "ex: ```$ conda env create -n example_env```\n",
    "+ –file: 指定安裝環境\n",
    "ex: ```$ conda env create -n example_env –file environment.yaml```\n",
    "+ -s : 指定跑的Snakefile \n",
    "ex: ```$ snakemake -s new_snakefile –report report.html```\n"
   ]
  }
 ],
 "metadata": {
  "kernelspec": {
   "display_name": "Python 3 (ipykernel)",
   "language": "python",
   "name": "python3"
  },
  "language_info": {
   "codemirror_mode": {
    "name": "ipython",
    "version": 3
   },
   "file_extension": ".py",
   "mimetype": "text/x-python",
   "name": "python",
   "nbconvert_exporter": "python",
   "pygments_lexer": "ipython3",
   "version": "3.10.12"
  },
  "widgets": {
   "application/vnd.jupyter.widget-state+json": {
    "state": {},
    "version_major": 2,
    "version_minor": 0
   }
  }
 },
 "nbformat": 4,
 "nbformat_minor": 4
}