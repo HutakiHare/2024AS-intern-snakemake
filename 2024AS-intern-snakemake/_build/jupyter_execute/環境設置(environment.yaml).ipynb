{
 "cells": [
  {
   "cell_type": "markdown",
   "metadata": {},
   "source": [
    "### 環境設置\n",
    "```\n",
    "# environment.yaml\n",
    "\n",
    "name: environment               # 環境名稱\n",
    "\n",
    "channels:\n",
    "  - conda-forge\n",
    "  - bioconda                    # 生物信息學軟體包的 channel\n",
    "\n",
    "dependencies:                   # 函式庫\n",
    "  - snakemake-minimal >=8.4.4   # 可強調版本\n",
    "  - python\n",
    "  - matplotlib\n",
    "  - pandas\n",
    "  - numpy\n",
    "  - plotly\n",
    "  - folium\n",
    "  - pip                         # 這裡是 Conda 自身的 pip 包\n",
    "\n",
    "  # 如果有需要從 PyPI 安裝的包，可以這樣放在 pip 下  (conda沒有的)\n",
    "  # - pip:\n",
    "  #   - python_package_not_in_conda\n",
    "```"
   ]
  }
 ],
 "metadata": {
  "kernelspec": {
   "display_name": "Python 3 (ipykernel)",
   "language": "python",
   "name": "python3"
  },
  "language_info": {
   "codemirror_mode": {
    "name": "ipython",
    "version": 3
   },
   "file_extension": ".py",
   "mimetype": "text/x-python",
   "name": "python",
   "nbconvert_exporter": "python",
   "pygments_lexer": "ipython3",
   "version": "3.10.12"
  },
  "widgets": {
   "application/vnd.jupyter.widget-state+json": {
    "state": {},
    "version_major": 2,
    "version_minor": 0
   }
  }
 },
 "nbformat": 4,
 "nbformat_minor": 4
}