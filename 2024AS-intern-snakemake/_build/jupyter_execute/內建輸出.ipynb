{
 "cells": [
  {
   "cell_type": "markdown",
   "metadata": {},
   "source": [
    "## 內建輸出\n",
    "+ 輸出工作流程圖(DAG有向無環圖)\n",
    "```snakemake –dag **/target/** | dot -Tsvg > **/file_output_name/**.svg```\n",
    "\n",
    "![dag](pictures/dag.png)\n",
    "\n",
    "+ 輸出report (內建workflow, statistics, about)\n",
    "```snakemake -s(op) **/target_snakefile/** –report **/report_name/** (.zip or .html …)``` \n",
    "\n",
    "![report-dag](pictures/report-dag.png)"
   ]
  }
 ],
 "metadata": {
  "kernelspec": {
   "display_name": "Python 3 (ipykernel)",
   "language": "python",
   "name": "python3"
  },
  "language_info": {
   "codemirror_mode": {
    "name": "ipython",
    "version": 3
   },
   "file_extension": ".py",
   "mimetype": "text/x-python",
   "name": "python",
   "nbconvert_exporter": "python",
   "pygments_lexer": "ipython3",
   "version": "3.10.12"
  },
  "widgets": {
   "application/vnd.jupyter.widget-state+json": {
    "state": {},
    "version_major": 2,
    "version_minor": 0
   }
  }
 },
 "nbformat": 4,
 "nbformat_minor": 4
}