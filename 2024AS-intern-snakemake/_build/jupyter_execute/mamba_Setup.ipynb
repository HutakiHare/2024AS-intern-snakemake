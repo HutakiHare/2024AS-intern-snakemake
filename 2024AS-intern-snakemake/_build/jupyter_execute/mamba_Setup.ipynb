{
 "cells": [
  {
   "cell_type": "markdown",
   "metadata": {},
   "source": [
    "### mamba Setup \n",
    "(來源:[安裝流程](https://snakemake.readthedocs.io/en/stable/tutorial/setup.html#step-1-installing-mambaforge))\n",
    "\n",
    "+ Linux 環境\n",
    "```\n",
    "$ curl -L https://github.com/conda-forge/miniforge/releases/latest/download/Mambaforge-Linux-x86_64.sh -o Mambaforge-Linux-x86_64.sh\n",
    "$ bash Mambaforge-Linux-x86_64.sh\n",
    "```\n",
    "> 下載跟安裝Miniconda 3  \n",
    " \n",
    "![mamba-1](pictures/mamba-1.png)  \n",
    "![mamba-2](pictures/mamba-2.png)  \n",
    "![mamba-3](pictures/mamba-3.png)  \n",
    "\n",
    "> 一直按Enter繼續   \n",
    "\n",
    "![mamba-4](pictures/mamba-4.png)  \n",
    "> yes  \n",
    "\n",
    "![mamba-5](pictures/mamba-5.png)  \n",
    "\n",
    "> 這樣就可以使用mamba了  \n",
    "\n"
   ]
  }
 ],
 "metadata": {
  "kernelspec": {
   "display_name": "Python 3 (ipykernel)",
   "language": "python",
   "name": "python3"
  },
  "language_info": {
   "codemirror_mode": {
    "name": "ipython",
    "version": 3
   },
   "file_extension": ".py",
   "mimetype": "text/x-python",
   "name": "python",
   "nbconvert_exporter": "python",
   "pygments_lexer": "ipython3",
   "version": "3.10.12"
  },
  "widgets": {
   "application/vnd.jupyter.widget-state+json": {
    "state": {},
    "version_major": 2,
    "version_minor": 0
   }
  }
 },
 "nbformat": 4,
 "nbformat_minor": 4
}