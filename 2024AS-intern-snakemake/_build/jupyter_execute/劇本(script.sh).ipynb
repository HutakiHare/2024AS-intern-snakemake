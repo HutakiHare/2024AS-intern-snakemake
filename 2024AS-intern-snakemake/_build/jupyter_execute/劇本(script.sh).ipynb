{
 "cells": [
  {
   "cell_type": "markdown",
   "metadata": {},
   "source": [
    "## 劇本\n",
    "\n",
    "```\n",
    "# script.sh\n",
    "\n",
    "#!/bin/bash\n",
    "\n",
    "# Check if Snakemake is installed, if not, install it\n",
    "if ! command -v snakemake &> /dev/null\n",
    "then\n",
    "    echo \"Snakemake not found, installing...\"\n",
    "    \n",
    "    conda activate base\n",
    "    mamba create -c conda-forge -c bioconda --name snakemake snakemake snakedeploy -y\n",
    "\n",
    "fi\n",
    "\n",
    "# Initialize conda in the script\n",
    "source $(conda info --base)/etc/profile.d/conda.sh\n",
    "\n",
    "conda activate snakemake\n",
    "\n",
    "# Run the Snakemake workflow\n",
    "snakemake  --cores all --use-conda\n",
    "```\n",
    "\n",
    " + 先確認目前有沒snakemake \n",
    "\n",
    "    ->  沒有就安裝\n",
    "\n",
    "\t->  有就啟動環境 \n",
    "\n",
    "  + 因為在建立環境時會問y/n，所以加 -y 回答\n",
    "\n",
    "\n",
    "```\n",
    "if ! command -v snakemake &> /dev/null\n",
    "then\n",
    "    echo \"Snakemake not found, installing...\"\n",
    "    # conda install -n base -c conda-forge mamba\n",
    "    conda activate base\n",
    "    mamba env create -n snakemake --file environment.yaml || mamba env update -n snakemake --file environment.yaml\n",
    "    # mamba create -c conda-forge -c bioconda -n snakemake snakemake\n",
    "fi\n",
    "```\n",
    "ex2(視範例)的用法，不是下載snakemake與snakedeploy，而是安裝environment.yaml裡所需的環境，以 ``` || ``` 來判斷若已有環境，則看是否更新\n"
   ]
  }
 ],
 "metadata": {
  "kernelspec": {
   "display_name": "Python 3 (ipykernel)",
   "language": "python",
   "name": "python3"
  },
  "language_info": {
   "codemirror_mode": {
    "name": "ipython",
    "version": 3
   },
   "file_extension": ".py",
   "mimetype": "text/x-python",
   "name": "python",
   "nbconvert_exporter": "python",
   "pygments_lexer": "ipython3",
   "version": "3.10.12"
  },
  "widgets": {
   "application/vnd.jupyter.widget-state+json": {
    "state": {},
    "version_major": 2,
    "version_minor": 0
   }
  }
 },
 "nbformat": 4,
 "nbformat_minor": 4
}