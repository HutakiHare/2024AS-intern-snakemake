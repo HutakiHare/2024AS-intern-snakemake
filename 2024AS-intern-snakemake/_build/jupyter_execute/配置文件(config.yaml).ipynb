{
 "cells": [
  {
   "cell_type": "markdown",
   "metadata": {},
   "source": [
    "## 配置文件 (config.yaml)\n",
    "\n",
    "```\n",
    "# config.yaml\n",
    "samples:\n",
    "    A: data/samples/A.fastq\n",
    "    B: data/samples/B.fastq\n",
    "    C: data/samples/C.fastq\n",
    "```\n",
    "\n",
    "```\n",
    "# Snakefile\n",
    "def get_bwa_map_input_fastqs(wildcards):\n",
    "    return config[\"samples\"][wildcards.sample]\n",
    "rule bwa_map:\n",
    "    input:\n",
    "        \"data/genome.fa\",\n",
    "        get_bwa_map_input_fastqs\n",
    "        # \"data/samples/{sample}.fastq\"\n",
    "    output:\n",
    "        \"mapped_reads/{sample}.bam\"\n",
    "    params:\n",
    "        rg=r\"@RG\\tID:{sample}\\tSM:{sample}\"\n",
    "    log:\n",
    "        \"logs/bwa_mem/{sample}.log\"\n",
    "    threads: 8\n",
    "    shell:\n",
    "        \"(bwa mem -R '{params.rg}' -t {threads} {input} | \"\n",
    "        \"samtools view -Sb - > {output}) 2> {log}\"\n",
    "\n",
    "\n",
    "configfile: \"config.yaml\" # config file 的路徑\n",
    "\t/..more../\n",
    "rule bcftools_call:\n",
    "    input:\n",
    "        fa=\"data/genome.fa\",\n",
    "        bam=expand(\"sorted_reads/{sample}.sorted.bam\", sample=config[\"samples\"]),\n",
    "        bai=expand(\"sorted_reads/{sample}.sorted.bam.bai\", sample=config[\"samples\"])\n",
    "/..more../\n",
    "```\n",
    "> + \"config[\"samples\"][wildcards.sample]\"取得 config 檔案裡sample下的路徑，在shell中使用{input}時會將三個路徑都當輸入跑一遍  \n",
    ">  \n",
    "> + {sample} 是通配符，會得到樣本名稱(**不是路徑**，所以```logs/bwa_mem/```裡面是A,B,C的log檔)\n",
    ">  \n",
    "> + ```bam=expand(\"sorted_reads/{sample}.sorted.bam\", sample=config[\"samples\"])```會讓 bam = sorted_reads/{A,B,C}.sorted.bam 三個檔案，在shell用 {input.bam} 會三個檔案都跑\n",
    ">  "
   ]
  }
 ],
 "metadata": {
  "kernelspec": {
   "display_name": "Python 3 (ipykernel)",
   "language": "python",
   "name": "python3"
  },
  "language_info": {
   "codemirror_mode": {
    "name": "ipython",
    "version": 3
   },
   "file_extension": ".py",
   "mimetype": "text/x-python",
   "name": "python",
   "nbconvert_exporter": "python",
   "pygments_lexer": "ipython3",
   "version": "3.10.12"
  },
  "widgets": {
   "application/vnd.jupyter.widget-state+json": {
    "state": {},
    "version_major": 2,
    "version_minor": 0
   }
  }
 },
 "nbformat": 4,
 "nbformat_minor": 4
}