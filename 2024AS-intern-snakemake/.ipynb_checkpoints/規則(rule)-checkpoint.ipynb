{
 "cells": [
  {
   "cell_type": "markdown",
   "metadata": {},
   "source": [
    "## rules \n",
    "\n",
    "```\n",
    "rule all:\n",
    "    input:\n",
    "        \"new_report.html\"\n",
    "\n",
    "rule unzip_file:                    # rule 後接 名稱\n",
    "    input:\n",
    "        \"resource.zip\"\n",
    "    output:\n",
    "        \"resource/tp-marriage.csv\",\n",
    "        \"resource/tp-economy.csv\"\n",
    "    shell:\n",
    "        \"unzip {input} -d ./\"\n",
    "```\n",
    "\n",
    "**rule all 是 $ snakemake 的時候跑的**"
   ]
  }
 ],
 "metadata": {
  "kernelspec": {
   "display_name": "Python 3 (ipykernel)",
   "language": "python",
   "name": "python3"
  },
  "language_info": {
   "codemirror_mode": {
    "name": "ipython",
    "version": 3
   },
   "file_extension": ".py",
   "mimetype": "text/x-python",
   "name": "python",
   "nbconvert_exporter": "python",
   "pygments_lexer": "ipython3",
   "version": "3.10.12"
  },
  "widgets": {
   "application/vnd.jupyter.widget-state+json": {
    "state": {},
    "version_major": 2,
    "version_minor": 0
   }
  }
 },
 "nbformat": 4,
 "nbformat_minor": 4
}
